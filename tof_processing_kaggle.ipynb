{
 "cells": [
  {
   "cell_type": "code",
   "execution_count": null,
   "id": "97a76bc1",
   "metadata": {},
   "outputs": [
    {
     "ename": "",
     "evalue": "",
     "output_type": "error",
     "traceback": [
      "\u001b[1;31mThe Kernel crashed while executing code in the current cell or a previous cell. \n",
      "\u001b[1;31mPlease review the code in the cell(s) to identify a possible cause of the failure. \n",
      "\u001b[1;31mClick <a href='https://aka.ms/vscodeJupyterKernelCrash'>here</a> for more info. \n",
      "\u001b[1;31mView Jupyter <a href='command:jupyter.viewOutput'>log</a> for further details."
     ]
    }
   ],
   "source": [
    "import numpy as np\n",
    "import pandas as pd\n",
    "from pathlib import Path\n",
    "\n",
    "\n",
    "OUTPUTS_DIR = Path(\"output\")\n",
    "EXPORT_DIR = Path(\"output\")\n",
    "EXPORT_DIR.mkdir(parents=True, exist_ok=True) \n",
    "\n",
    "metadata_cols = ['sequence_id', 'sequence_counter']\n",
    "df = pd.read_parquet(OUTPUTS_DIR / \"cleaned_base_train_data.parquet\")\n",
    "\n",
    "tof_feats = []\n",
    "for i in range(1, 6):\n",
    "    tof_feats.extend([f'tof_{i}_mean', f'tof_{i}_std', f'tof_{i}_min', f'tof_{i}_max'])\n",
    "\n",
    "final_feature_cols = metadata_cols + tof_feats\n",
    "seq_gp = df.groupby('sequence_id') \n",
    "processed_sequences_dfs = []\n",
    "for seq_id, seq_df in seq_gp:\n",
    "    seq_df_copy = seq_df.copy()\n",
    "    \n",
    "    for i in range(1, 6):\n",
    "        pixel_cols = [f\"tof_{i}_v{p}\" for p in range(64)]\n",
    "        tof_data = seq_df_copy[pixel_cols].replace(-1, np.nan)\n",
    "        seq_df_copy[f'tof_{i}_mean'] = tof_data.mean(axis=1)\n",
    "        seq_df_copy[f'tof_{i}_std'] = tof_data.std(axis=1)\n",
    "        seq_df_copy[f'tof_{i}_min'] = tof_data.min(axis=1)\n",
    "        seq_df_copy[f'tof_{i}_max'] = tof_data.max(axis=1)\n",
    "\n",
    "    seq_df_copy[final_feature_cols] = seq_df_copy[final_feature_cols].ffill().bfill().fillna(0)\n",
    "    processed_sequences_dfs.append(seq_df_copy[final_feature_cols])        \n",
    "\n",
    "final_df = pd.concat(processed_sequences_dfs, ignore_index=True)    \n",
    "final_df.to_parquet(EXPORT_DIR/'tof_basic_kaggle_feats.parquet')"
   ]
  }
 ],
 "metadata": {
  "kernelspec": {
   "display_name": "cmi",
   "language": "python",
   "name": "python3"
  },
  "language_info": {
   "codemirror_mode": {
    "name": "ipython",
    "version": 3
   },
   "file_extension": ".py",
   "mimetype": "text/x-python",
   "name": "python",
   "nbconvert_exporter": "python",
   "pygments_lexer": "ipython3",
   "version": "3.12.9"
  }
 },
 "nbformat": 4,
 "nbformat_minor": 5
}
