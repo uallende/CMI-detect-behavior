{
 "cells": [
  {
   "cell_type": "code",
   "execution_count": 1,
   "id": "97a76bc1",
   "metadata": {},
   "outputs": [],
   "source": [
    "import numpy as np\n",
    "import pandas as pd\n",
    "from pathlib import Path\n",
    "\n",
    "\n",
    "RAW_DIR = Path(\"input/cmi-detect-behavior-with-sensor-data\")\n",
    "EXPORT_DIR = Path(\"output\")\n",
    "EXPORT_DIR.mkdir(parents=True, exist_ok=True) \n",
    "df = pd.read_csv(RAW_DIR / \"train.csv\")\n",
    "\n",
    "metadata_cols = ['sequence_id', 'sequence_counter']"
   ]
  },
  {
   "cell_type": "code",
   "execution_count": 2,
   "id": "5bc7d127",
   "metadata": {},
   "outputs": [],
   "source": [
    "tof_feats = []\n",
    "for i in range(1, 6):\n",
    "    tof_feats.extend([f'tof_{i}_mean', f'tof_{i}_std', f'tof_{i}_min', f'tof_{i}_max'])\n",
    "\n",
    "final_feature_cols = metadata_cols + tof_feats\n",
    "seq_gp = df.groupby('sequence_id') \n",
    "processed_sequences_dfs = []\n",
    "for seq_id, seq_df in seq_gp:\n",
    "    seq_df_copy = seq_df.copy()\n",
    "    \n",
    "    for i in range(1, 6):\n",
    "        pixel_cols = [f\"tof_{i}_v{p}\" for p in range(64)]\n",
    "        tof_data = seq_df_copy[pixel_cols].replace(-1, np.nan)\n",
    "        seq_df_copy[f'tof_{i}_mean'] = tof_data.mean(axis=1)\n",
    "        seq_df_copy[f'tof_{i}_std'] = tof_data.std(axis=1)\n",
    "        seq_df_copy[f'tof_{i}_min'] = tof_data.min(axis=1)\n",
    "        seq_df_copy[f'tof_{i}_max'] = tof_data.max(axis=1)\n",
    "\n",
    "    seq_df_copy[final_feature_cols] = seq_df_copy[final_feature_cols].ffill().bfill().fillna(0)\n",
    "    processed_sequences_dfs.append(seq_df_copy[final_feature_cols])        \n",
    "\n",
    "final_df = pd.concat(processed_sequences_dfs, ignore_index=True)    \n",
    "final_df.to_parquet(EXPORT_DIR/'tof_basic_kaggle_feats.parquet')"
   ]
  },
  {
   "cell_type": "code",
   "execution_count": 2,
   "id": "234ff9cc",
   "metadata": {},
   "outputs": [
    {
     "data": {
      "text/plain": [
       "Index(['sequence_id', 'sequence_counter', 'tof_1_mean', 'tof_1_std',\n",
       "       'tof_1_min', 'tof_1_max', 'tof_2_mean', 'tof_2_std', 'tof_2_min',\n",
       "       'tof_2_max', 'tof_3_mean', 'tof_3_std', 'tof_3_min', 'tof_3_max',\n",
       "       'tof_4_mean', 'tof_4_std', 'tof_4_min', 'tof_4_max', 'tof_5_mean',\n",
       "       'tof_5_std', 'tof_5_min', 'tof_5_max'],\n",
       "      dtype='object')"
      ]
     },
     "execution_count": 2,
     "metadata": {},
     "output_type": "execute_result"
    }
   ],
   "source": [
    "import pandas as pd\n",
    "df= pd.read_parquet('output/tof_basic_kaggle_feats.parquet')\n",
    "df.columns"
   ]
  }
 ],
 "metadata": {
  "kernelspec": {
   "display_name": "cmi",
   "language": "python",
   "name": "python3"
  },
  "language_info": {
   "codemirror_mode": {
    "name": "ipython",
    "version": 3
   },
   "file_extension": ".py",
   "mimetype": "text/x-python",
   "name": "python",
   "nbconvert_exporter": "python",
   "pygments_lexer": "ipython3",
   "version": "3.12.9"
  }
 },
 "nbformat": 4,
 "nbformat_minor": 5
}
