{
 "cells": [
  {
   "cell_type": "code",
   "execution_count": 4,
   "id": "b0604339",
   "metadata": {
    "_cell_guid": "b1076dfc-b9ad-4769-8c92-a6c4dae69d19",
    "_uuid": "8f2839f25d086af736a60e9eeb907d3b93b6e0e5",
    "execution": {
     "iopub.execute_input": "2025-05-30T02:46:20.224626Z",
     "iopub.status.busy": "2025-05-30T02:46:20.224265Z",
     "iopub.status.idle": "2025-05-30T02:46:23.511543Z",
     "shell.execute_reply": "2025-05-30T02:46:23.510562Z"
    },
    "papermill": {
     "duration": 3.293064,
     "end_time": "2025-05-30T02:46:23.513356",
     "exception": false,
     "start_time": "2025-05-30T02:46:20.220292",
     "status": "completed"
    },
    "tags": []
   },
   "outputs": [],
   "source": [
    "import os\n",
    "\n",
    "import pandas as pd\n",
    "import polars as pl\n",
    "\n",
    "import kaggle_evaluation.cmi_inference_server"
   ]
  },
  {
   "cell_type": "markdown",
   "id": "66bf6954",
   "metadata": {
    "execution": {
     "iopub.execute_input": "2025-05-29T22:29:18.956193Z",
     "iopub.status.busy": "2025-05-29T22:29:18.955791Z",
     "iopub.status.idle": "2025-05-29T22:29:18.965179Z",
     "shell.execute_reply": "2025-05-29T22:29:18.963797Z",
     "shell.execute_reply.started": "2025-05-29T22:29:18.956169Z"
    },
    "papermill": {
     "duration": 0.001689,
     "end_time": "2025-05-30T02:46:23.517241",
     "exception": false,
     "start_time": "2025-05-30T02:46:23.515552",
     "status": "completed"
    },
    "tags": []
   },
   "source": [
    "The evaluation API requires that you set up a server which will respond to inference requests. We have already defined the server; you just need write the predict function. When we evaluate your submission on the hidden test set the client defined in the gateway will run in a different container with direct access to the hidden test set and hand off the one sequence at a time.\n",
    "\n",
    "Your code will always have access to the published copies of the files."
   ]
  },
  {
   "cell_type": "code",
   "execution_count": 5,
   "id": "87784cc7",
   "metadata": {
    "execution": {
     "iopub.execute_input": "2025-05-30T02:46:23.522378Z",
     "iopub.status.busy": "2025-05-30T02:46:23.521640Z",
     "iopub.status.idle": "2025-05-30T02:46:23.526176Z",
     "shell.execute_reply": "2025-05-30T02:46:23.525419Z"
    },
    "papermill": {
     "duration": 0.008464,
     "end_time": "2025-05-30T02:46:23.527456",
     "exception": false,
     "start_time": "2025-05-30T02:46:23.518992",
     "status": "completed"
    },
    "tags": []
   },
   "outputs": [],
   "source": [
    "def predict(sequence: pl.DataFrame, demographics: pl.DataFrame) -> str:\n",
    "    # Replace this function with your inference code.\n",
    "    # You can return either a Pandas or Polars dataframe, though Polars is recommended.\n",
    "    # Each prediction (except the very first) must be returned within 30 minutes of the batch features being provided.\n",
    "    return 'Text on phone'"
   ]
  },
  {
   "cell_type": "code",
   "execution_count": null,
   "id": "8a667240",
   "metadata": {
    "execution": {
     "iopub.execute_input": "2025-05-30T02:46:23.532395Z",
     "iopub.status.busy": "2025-05-30T02:46:23.532067Z",
     "iopub.status.idle": "2025-05-30T02:46:25.534367Z",
     "shell.execute_reply": "2025-05-30T02:46:25.533525Z"
    },
    "papermill": {
     "duration": 2.007103,
     "end_time": "2025-05-30T02:46:25.536447",
     "exception": false,
     "start_time": "2025-05-30T02:46:23.529344",
     "status": "completed"
    },
    "tags": []
   },
   "outputs": [],
   "source": [
    "inference_server = kaggle_evaluation.cmi_inference_server.CMIInferenceServer(predict)\n",
    "\n",
    "if os.getenv('KAGGLE_IS_COMPETITION_RERUN'):\n",
    "    inference_server.serve()\n",
    "else:\n",
    "    inference_server.run_local_gateway(\n",
    "        data_paths=(\n",
    "            '/kaggle/input/cmi-detect-behavior-with-sensor-data/test.csv',\n",
    "            '/kaggle/input/cmi-detect-behavior-with-sensor-data/test_demographics.csv',\n",
    "        )\n",
    "    )"
   ]
  }
 ],
 "metadata": {
  "kaggle": {
   "accelerator": "none",
   "dataSources": [
    {
     "databundleVersionId": 12517760,
     "sourceId": 102335,
     "sourceType": "competition"
    }
   ],
   "dockerImageVersionId": 31040,
   "isGpuEnabled": false,
   "isInternetEnabled": false,
   "language": "python",
   "sourceType": "notebook"
  },
  "kernelspec": {
   "display_name": "cmi",
   "language": "python",
   "name": "python3"
  },
  "language_info": {
   "codemirror_mode": {
    "name": "ipython",
    "version": 3
   },
   "file_extension": ".py",
   "mimetype": "text/x-python",
   "name": "python",
   "nbconvert_exporter": "python",
   "pygments_lexer": "ipython3",
   "version": "3.13.2"
  },
  "papermill": {
   "default_parameters": {},
   "duration": 11.361834,
   "end_time": "2025-05-30T02:46:26.161612",
   "environment_variables": {},
   "exception": null,
   "input_path": "__notebook__.ipynb",
   "output_path": "__notebook__.ipynb",
   "parameters": {},
   "start_time": "2025-05-30T02:46:14.799778",
   "version": "2.6.0"
  }
 },
 "nbformat": 4,
 "nbformat_minor": 5
}
